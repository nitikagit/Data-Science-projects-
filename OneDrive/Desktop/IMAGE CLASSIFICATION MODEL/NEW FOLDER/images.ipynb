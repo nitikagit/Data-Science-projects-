{
 "cells": [
  {
   "cell_type": "code",
   "execution_count": null,
   "id": "40938940-de69-4b2b-a6b2-b5467169e8ca",
   "metadata": {},
   "outputs": [],
   "source": [
    "import pandas as pd\n",
    "import numpy as np\n",
    "import cv2"
   ]
  },
  {
   "cell_type": "markdown",
   "id": "742a3aeb-fc07-4f54-9a81-20991905909e",
   "metadata": {},
   "source": [
    "convert image into numpy array 1 d"
   ]
  },
  {
   "cell_type": "code",
   "execution_count": null,
   "id": "061144a8-6393-45ed-8e96-36075edb357a",
   "metadata": {},
   "outputs": [],
   "source": [
    "x=cv2.imread(\"NITIKA 1.jpg\")"
   ]
  },
  {
   "cell_type": "code",
   "execution_count": null,
   "id": "849d93f3-3c16-4322-b84e-4d08cfe9fe89",
   "metadata": {},
   "outputs": [],
   "source": [
    "x.ravel()"
   ]
  },
  {
   "cell_type": "code",
   "execution_count": null,
   "id": "ae81b1f8-8e53-4a57-b4fd-5ea2286803c8",
   "metadata": {},
   "outputs": [],
   "source": [
    "list1=[\"DIVYA 3.jpg\",\"DIVYA 4.jpg\",\"DIVYA 5.jpg\",\"DIVYA.jpg\",\"JITENDER 2.jpg\",\"JITENDER 3.jpg\",\"JITENDER 4.jpg\",\"JITENDER 5.jpg\",\"KESHAV 1.jpg\",\"KESHAV 2.jpg\",\"KESHAV 3.jpg\",\"KESHAV 4.jpg\",\"KESHAV 5.jpg\",\"KESHAV 6.jpg\",\"LIB MAM 1.jpg\",\"LIB MAM 2.jpg\",\"LIB MAM 4.jpg\",\"LIB MAM 5.jpg\",\"LIB MAM 6.jpg\",\"LIB MAM 7.jpg\",\"LIB MAM 8.jpg\",\"MAHI 1.jpg\",\"MAHI 2.jpg\",\"MAHI 3.jpg\",\"MAHI 4.jpg\",\"MAHI 5.jpg\",\"NITIKA 1.jpg\",\"NITIKA 2.jpg\",\"NITIKA 3.jpg\",\"NITIKA 4.jpg\",\"NITIKA 5.jpg\"]\n",
    "list2=[]"
   ]
  },
  {
   "cell_type": "code",
   "execution_count": null,
   "id": "6a28b7c3-f8ff-4538-b258-2da18f7e7e02",
   "metadata": {},
   "outputs": [],
   "source": [
    "#now make all images like that "
   ]
  },
  {
   "cell_type": "code",
   "execution_count": null,
   "id": "6271c860-7d7c-4f33-a994-bdb4f8b17632",
   "metadata": {},
   "outputs": [],
   "source": [
    "import numpy as np\n",
    "from PIL import Image\n",
    "import os\n",
    "import cv2\n",
    "\n",
    "def create_2d_array_from_images(image_list, target_size=(512, 512)):\n",
    "   \n",
    "    all_1d_arrays = []\n",
    "\n",
    "    for image_path in image_list:\n",
    "        try:\n",
    "            # 1. Open the image\n",
    "            img = Image.open(image_path)\n",
    "            \n",
    "\n",
    "            # 2. Resize the image to a consistent size\n",
    "            # This is the most crucial step to prevent errors!\n",
    "            img_resized = img.resize(target_size)\n",
    "\n",
    "            # 3. Convert the resized image to a NumPy array\n",
    "            img_array = np.array(img_resized)\n",
    "\n",
    "            # 4. Flatten the array into a single 1D array\n",
    "            flattened_array = img_array.flatten()\n",
    "\n",
    "            # Add the 1D array to our list\n",
    "            all_1d_arrays.append(flattened_array)\n",
    "\n",
    "        except Exception as e:\n",
    "            print(f\"Skipping image {image_path} due to an error: {e}\")\n",
    "\n",
    "    # 5. Stack all 1D arrays into a single 2D array\n",
    "    # This works because all arrays in the list are now the same size\n",
    "    if all_1d_arrays:\n",
    "        return np.array(all_1d_arrays)\n",
    "    else:\n",
    "        return np.array([]) # Return an empty array if no images were processed\n",
    "\n",
    "\n",
    "# Create the final 2D array\n",
    "final_2d_array = create_2d_array_from_images(list1,(512,512))\n",
    "\n",
    "\n",
    "   \n",
    "   \n",
    "    \n",
    "    \n",
    "    \n",
    "    "
   ]
  },
  {
   "cell_type": "code",
   "execution_count": null,
   "id": "db01672d-42ab-4573-adde-888e7594d0b0",
   "metadata": {},
   "outputs": [],
   "source": [
    "print(final_2d_array)"
   ]
  },
  {
   "cell_type": "code",
   "execution_count": null,
   "id": "3e3ad7e5-7703-449e-98f3-2d1ef826bf57",
   "metadata": {},
   "outputs": [],
   "source": [
    "\n",
    "image_labels = [0,0,0,0,2,2,2,2,3,3,3,3,3,3,5,5,5,5,5,5,5,4,4,4,4,4,1,1,1,1,1] \n",
    "\n",
    "# Convert the list to a NumPy array.\n",
    "labels_np = np.array(image_labels)\n",
    "labels_2d = labels_np.reshape(-1, 1)\n",
    "# You now have both your image data and corresponding labels ready for training.\n",
    "print(\"Shape of labels array:\", labels_2d.shape)\n",
    "print(\"Labels:\", labels_2d)\n"
   ]
  },
  {
   "cell_type": "markdown",
   "id": "c046d4fa-797f-44cf-9e20-2da67a9b024c",
   "metadata": {},
   "source": [
    "splitting the data"
   ]
  },
  {
   "cell_type": "code",
   "execution_count": null,
   "id": "4951027e-20ec-4d9d-bbbf-fbd190027f30",
   "metadata": {},
   "outputs": [],
   "source": [
    "from sklearn.model_selection import train_test_split"
   ]
  },
  {
   "cell_type": "code",
   "execution_count": null,
   "id": "e312062b-c387-4e1f-b50e-fe6b6333d8a4",
   "metadata": {},
   "outputs": [],
   "source": [
    "x=final_2d_array"
   ]
  },
  {
   "cell_type": "code",
   "execution_count": null,
   "id": "bb548960-550d-4335-a0a0-3ec8269307f2",
   "metadata": {},
   "outputs": [],
   "source": [
    "x.shape"
   ]
  },
  {
   "cell_type": "code",
   "execution_count": null,
   "id": "cb220287-eadc-4611-a84a-e395e128665b",
   "metadata": {},
   "outputs": [],
   "source": [
    "y=labels_2d"
   ]
  },
  {
   "cell_type": "code",
   "execution_count": null,
   "id": "2f378473-5585-435b-a303-468ecfceaf5b",
   "metadata": {},
   "outputs": [],
   "source": [
    "y.shape"
   ]
  },
  {
   "cell_type": "code",
   "execution_count": null,
   "id": "77bd9044-525f-481c-b4bd-5b66449d5372",
   "metadata": {},
   "outputs": [],
   "source": [
    "train_x,test_x,train_y,test_y=train_test_split(x,y,test_size=0.2)"
   ]
  },
  {
   "cell_type": "code",
   "execution_count": null,
   "id": "5c91b078-4e03-4c56-b0c7-6d538ae73c79",
   "metadata": {},
   "outputs": [],
   "source": [
    "train_x"
   ]
  },
  {
   "cell_type": "code",
   "execution_count": null,
   "id": "a918583f-eefe-40db-896a-51171dc44237",
   "metadata": {},
   "outputs": [],
   "source": [
    "train_y"
   ]
  },
  {
   "cell_type": "code",
   "execution_count": null,
   "id": "6c336445-a9b7-432f-ad6a-3351780ff577",
   "metadata": {},
   "outputs": [],
   "source": [
    "from sklearn.linear_model import LogisticRegression"
   ]
  },
  {
   "cell_type": "code",
   "execution_count": null,
   "id": "3150e7f9-a13c-49c5-b12d-131853cb1762",
   "metadata": {},
   "outputs": [],
   "source": [
    "model=LogisticRegression()"
   ]
  },
  {
   "cell_type": "code",
   "execution_count": null,
   "id": "9771336a-a156-49b9-9d1e-15ca2e4afed0",
   "metadata": {},
   "outputs": [],
   "source": [
    "model.fit(train_x,train_y)"
   ]
  },
  {
   "cell_type": "code",
   "execution_count": null,
   "id": "85da8f81-287b-4f2c-8725-12550773f3c0",
   "metadata": {},
   "outputs": [],
   "source": [
    "a=model.predict(test_x[0:1])"
   ]
  },
  {
   "cell_type": "code",
   "execution_count": null,
   "id": "1a59d984-bfd9-414d-b0d9-c9a58c461870",
   "metadata": {},
   "outputs": [],
   "source": [
    "a=int(input(\"enter first value\"))\n",
    "b=int(input(\"enter 2 value\"))\n",
    "y=model.predict(test_x[a:b])\n",
    "for i in range(len(y)):\n",
    "    if y[i]==0:\n",
    "        print(\"DIVYA\")\n",
    "    elif y[i]==1:\n",
    "        print(\"nitika\")\n",
    "    elif y[i]==2:\n",
    "        print(\"JITENDER\")\n",
    "    elif y[i]==3:\n",
    "        print(\"Keshav\")\n",
    "    elif y[i]==4:\n",
    "        print(\"MAHI\")\n",
    "    elif y[i]==5:\n",
    "        print(\"LIB MAM\")\n",
    "    else:\n",
    "        print(\"OTHERS\")\n",
    "\n",
    "\n"
   ]
  },
  {
   "cell_type": "code",
   "execution_count": null,
   "id": "498f302e-d1e4-438d-826b-9c89bf9533ad",
   "metadata": {},
   "outputs": [],
   "source": [
    "model.score(train_x,train_y)"
   ]
  },
  {
   "cell_type": "code",
   "execution_count": null,
   "id": "2932633f-5ebd-4262-82d6-934bee69305f",
   "metadata": {},
   "outputs": [],
   "source": [
    "f=open(\"xyz.pkl\",\"wb\")"
   ]
  },
  {
   "cell_type": "code",
   "execution_count": null,
   "id": "0877ad5b-1d6c-4c66-bc69-7e26a8669653",
   "metadata": {},
   "outputs": [],
   "source": [
    "f.close()"
   ]
  },
  {
   "cell_type": "code",
   "execution_count": null,
   "id": "87be6aa1-d267-4a79-b81a-48331bf5ddcd",
   "metadata": {},
   "outputs": [],
   "source": [
    "import pickle"
   ]
  },
  {
   "cell_type": "code",
   "execution_count": null,
   "id": "dc7062d0-693d-4f3c-b320-a8562bc063a3",
   "metadata": {},
   "outputs": [],
   "source": [
    "pickle.dump(model,open(\"xyz.pkl\",\"wb\"))"
   ]
  },
  {
   "cell_type": "code",
   "execution_count": null,
   "id": "8849060f-150c-403d-b7ef-a656e658871a",
   "metadata": {},
   "outputs": [],
   "source": []
  }
 ],
 "metadata": {
  "kernelspec": {
   "display_name": "Python 3 (ipykernel)",
   "language": "python",
   "name": "python3"
  },
  "language_info": {
   "codemirror_mode": {
    "name": "ipython",
    "version": 3
   },
   "file_extension": ".py",
   "mimetype": "text/x-python",
   "name": "python",
   "nbconvert_exporter": "python",
   "pygments_lexer": "ipython3",
   "version": "3.12.4"
  },
  "widgets": {
   "application/vnd.jupyter.widget-state+json": {
    "state": {},
    "version_major": 2,
    "version_minor": 0
   }
  }
 },
 "nbformat": 4,
 "nbformat_minor": 5
}
