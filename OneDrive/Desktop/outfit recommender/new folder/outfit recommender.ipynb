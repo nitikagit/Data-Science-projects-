{
 "cells": [
  {
   "cell_type": "markdown",
   "id": "8490aaef-4a53-4338-b03d-6df7866f2ccf",
   "metadata": {},
   "source": [
    "PROJECT OUTFIT RECOMMENDER"
   ]
  },
  {
   "cell_type": "markdown",
   "id": "c39e5b1a-af6f-4dbd-a744-1ef2678ddcc8",
   "metadata": {},
   "source": [
    "Import Main Libraries"
   ]
  },
  {
   "cell_type": "code",
   "execution_count": 42,
   "id": "407addec-21e1-41c9-aedd-958c59a2be79",
   "metadata": {},
   "outputs": [],
   "source": [
    "import pandas as pd\n",
    "import numpy as np\n",
    "import matplotlib.pyplot as plt"
   ]
  },
  {
   "cell_type": "markdown",
   "id": "af5d2c52-acab-43c7-9e13-b234ac4c6f90",
   "metadata": {},
   "source": [
    "Exploratory Data Analysis "
   ]
  },
  {
   "cell_type": "code",
   "execution_count": 43,
   "id": "b9b0f12c-b7a7-4339-8175-8235645fd3ae",
   "metadata": {},
   "outputs": [],
   "source": [
    "df=pd.read_excel(\"outfit project 2.xlsx\")"
   ]
  },
  {
   "cell_type": "code",
   "execution_count": 44,
   "id": "097a4da2-bcfa-474a-8cdf-293ba5b2e607",
   "metadata": {},
   "outputs": [
    {
     "data": {
      "text/html": [
       "<div>\n",
       "<style scoped>\n",
       "    .dataframe tbody tr th:only-of-type {\n",
       "        vertical-align: middle;\n",
       "    }\n",
       "\n",
       "    .dataframe tbody tr th {\n",
       "        vertical-align: top;\n",
       "    }\n",
       "\n",
       "    .dataframe thead th {\n",
       "        text-align: right;\n",
       "    }\n",
       "</style>\n",
       "<table border=\"1\" class=\"dataframe\">\n",
       "  <thead>\n",
       "    <tr style=\"text-align: right;\">\n",
       "      <th></th>\n",
       "      <th>gender</th>\n",
       "      <th>category</th>\n",
       "      <th>sub_category</th>\n",
       "      <th>height_cm</th>\n",
       "      <th>weight_kg</th>\n",
       "      <th>skin_tone</th>\n",
       "      <th>body_shape</th>\n",
       "      <th>outfit_image_url</th>\n",
       "    </tr>\n",
       "  </thead>\n",
       "  <tbody>\n",
       "    <tr>\n",
       "      <th>0</th>\n",
       "      <td>female</td>\n",
       "      <td>traditional</td>\n",
       "      <td>saree</td>\n",
       "      <td>0.5</td>\n",
       "      <td>0.6</td>\n",
       "      <td>dusky</td>\n",
       "      <td>hourglass</td>\n",
       "      <td>1</td>\n",
       "    </tr>\n",
       "    <tr>\n",
       "      <th>1</th>\n",
       "      <td>male</td>\n",
       "      <td>traditional</td>\n",
       "      <td>kurta-pajamas</td>\n",
       "      <td>0.5</td>\n",
       "      <td>0.8</td>\n",
       "      <td>brown</td>\n",
       "      <td>rectangle</td>\n",
       "      <td>2</td>\n",
       "    </tr>\n",
       "    <tr>\n",
       "      <th>2</th>\n",
       "      <td>female</td>\n",
       "      <td>western</td>\n",
       "      <td>jeans-top</td>\n",
       "      <td>0.5</td>\n",
       "      <td>0.6</td>\n",
       "      <td>white</td>\n",
       "      <td>triangle</td>\n",
       "      <td>3</td>\n",
       "    </tr>\n",
       "    <tr>\n",
       "      <th>3</th>\n",
       "      <td>male</td>\n",
       "      <td>western</td>\n",
       "      <td>shirts-pants</td>\n",
       "      <td>0.6</td>\n",
       "      <td>0.9</td>\n",
       "      <td>black</td>\n",
       "      <td>inverted triangle</td>\n",
       "      <td>4</td>\n",
       "    </tr>\n",
       "    <tr>\n",
       "      <th>4</th>\n",
       "      <td>female</td>\n",
       "      <td>traditional</td>\n",
       "      <td>lehnga</td>\n",
       "      <td>0.4</td>\n",
       "      <td>0.5</td>\n",
       "      <td>brown</td>\n",
       "      <td>square</td>\n",
       "      <td>5</td>\n",
       "    </tr>\n",
       "  </tbody>\n",
       "</table>\n",
       "</div>"
      ],
      "text/plain": [
       "   gender     category   sub_category  height_cm  weight_kg skin_tone  \\\n",
       "0  female  traditional          saree        0.5        0.6     dusky   \n",
       "1    male  traditional  kurta-pajamas        0.5        0.8     brown   \n",
       "2  female      western      jeans-top        0.5        0.6     white   \n",
       "3    male      western   shirts-pants        0.6        0.9     black   \n",
       "4  female  traditional         lehnga        0.4        0.5     brown   \n",
       "\n",
       "          body_shape  outfit_image_url  \n",
       "0          hourglass                 1  \n",
       "1          rectangle                 2  \n",
       "2           triangle                 3  \n",
       "3  inverted triangle                 4  \n",
       "4             square                 5  "
      ]
     },
     "execution_count": 44,
     "metadata": {},
     "output_type": "execute_result"
    }
   ],
   "source": [
    "df.head()"
   ]
  },
  {
   "cell_type": "markdown",
   "id": "89f045e5-6673-42cb-b70f-b168d0a330f9",
   "metadata": {},
   "source": [
    "SPLITTING X AND Y VARIABLES "
   ]
  },
  {
   "cell_type": "markdown",
   "id": "c3100010-350c-4ef2-88af-7bbaf8a88941",
   "metadata": {},
   "source": [
    "Encoding String Columns To Numerical "
   ]
  },
  {
   "cell_type": "code",
   "execution_count": 45,
   "id": "c29cfd0e-9427-4cdb-a5a6-4c5d7a4cff50",
   "metadata": {},
   "outputs": [],
   "source": [
    "X=df.drop(['outfit_image_url','sub_category'], axis=1)"
   ]
  },
  {
   "cell_type": "code",
   "execution_count": 46,
   "id": "e8fe7a6b-8d2b-4e73-b8b4-7220aaff26b4",
   "metadata": {},
   "outputs": [],
   "source": [
    "X_encoded = pd.get_dummies(X)"
   ]
  },
  {
   "cell_type": "code",
   "execution_count": 47,
   "id": "61f1b5b5-1a1f-47fd-b1c1-28acff796dcc",
   "metadata": {},
   "outputs": [
    {
     "data": {
      "text/html": [
       "<div>\n",
       "<style scoped>\n",
       "    .dataframe tbody tr th:only-of-type {\n",
       "        vertical-align: middle;\n",
       "    }\n",
       "\n",
       "    .dataframe tbody tr th {\n",
       "        vertical-align: top;\n",
       "    }\n",
       "\n",
       "    .dataframe thead th {\n",
       "        text-align: right;\n",
       "    }\n",
       "</style>\n",
       "<table border=\"1\" class=\"dataframe\">\n",
       "  <thead>\n",
       "    <tr style=\"text-align: right;\">\n",
       "      <th></th>\n",
       "      <th>height_cm</th>\n",
       "      <th>weight_kg</th>\n",
       "      <th>gender_female</th>\n",
       "      <th>gender_male</th>\n",
       "      <th>category_traditional</th>\n",
       "      <th>category_western</th>\n",
       "      <th>skin_tone_black</th>\n",
       "      <th>skin_tone_brown</th>\n",
       "      <th>skin_tone_dusky</th>\n",
       "      <th>skin_tone_white</th>\n",
       "      <th>body_shape_hourglass</th>\n",
       "      <th>body_shape_inverted triangle</th>\n",
       "      <th>body_shape_rectangle</th>\n",
       "      <th>body_shape_square</th>\n",
       "      <th>body_shape_triangle</th>\n",
       "    </tr>\n",
       "  </thead>\n",
       "  <tbody>\n",
       "    <tr>\n",
       "      <th>0</th>\n",
       "      <td>0.5</td>\n",
       "      <td>0.6</td>\n",
       "      <td>True</td>\n",
       "      <td>False</td>\n",
       "      <td>True</td>\n",
       "      <td>False</td>\n",
       "      <td>False</td>\n",
       "      <td>False</td>\n",
       "      <td>True</td>\n",
       "      <td>False</td>\n",
       "      <td>True</td>\n",
       "      <td>False</td>\n",
       "      <td>False</td>\n",
       "      <td>False</td>\n",
       "      <td>False</td>\n",
       "    </tr>\n",
       "    <tr>\n",
       "      <th>1</th>\n",
       "      <td>0.5</td>\n",
       "      <td>0.8</td>\n",
       "      <td>False</td>\n",
       "      <td>True</td>\n",
       "      <td>True</td>\n",
       "      <td>False</td>\n",
       "      <td>False</td>\n",
       "      <td>True</td>\n",
       "      <td>False</td>\n",
       "      <td>False</td>\n",
       "      <td>False</td>\n",
       "      <td>False</td>\n",
       "      <td>True</td>\n",
       "      <td>False</td>\n",
       "      <td>False</td>\n",
       "    </tr>\n",
       "    <tr>\n",
       "      <th>2</th>\n",
       "      <td>0.5</td>\n",
       "      <td>0.6</td>\n",
       "      <td>True</td>\n",
       "      <td>False</td>\n",
       "      <td>False</td>\n",
       "      <td>True</td>\n",
       "      <td>False</td>\n",
       "      <td>False</td>\n",
       "      <td>False</td>\n",
       "      <td>True</td>\n",
       "      <td>False</td>\n",
       "      <td>False</td>\n",
       "      <td>False</td>\n",
       "      <td>False</td>\n",
       "      <td>True</td>\n",
       "    </tr>\n",
       "    <tr>\n",
       "      <th>3</th>\n",
       "      <td>0.6</td>\n",
       "      <td>0.9</td>\n",
       "      <td>False</td>\n",
       "      <td>True</td>\n",
       "      <td>False</td>\n",
       "      <td>True</td>\n",
       "      <td>True</td>\n",
       "      <td>False</td>\n",
       "      <td>False</td>\n",
       "      <td>False</td>\n",
       "      <td>False</td>\n",
       "      <td>True</td>\n",
       "      <td>False</td>\n",
       "      <td>False</td>\n",
       "      <td>False</td>\n",
       "    </tr>\n",
       "    <tr>\n",
       "      <th>4</th>\n",
       "      <td>0.4</td>\n",
       "      <td>0.5</td>\n",
       "      <td>True</td>\n",
       "      <td>False</td>\n",
       "      <td>True</td>\n",
       "      <td>False</td>\n",
       "      <td>False</td>\n",
       "      <td>True</td>\n",
       "      <td>False</td>\n",
       "      <td>False</td>\n",
       "      <td>False</td>\n",
       "      <td>False</td>\n",
       "      <td>False</td>\n",
       "      <td>True</td>\n",
       "      <td>False</td>\n",
       "    </tr>\n",
       "  </tbody>\n",
       "</table>\n",
       "</div>"
      ],
      "text/plain": [
       "   height_cm  weight_kg  gender_female  gender_male  category_traditional  \\\n",
       "0        0.5        0.6           True        False                  True   \n",
       "1        0.5        0.8          False         True                  True   \n",
       "2        0.5        0.6           True        False                 False   \n",
       "3        0.6        0.9          False         True                 False   \n",
       "4        0.4        0.5           True        False                  True   \n",
       "\n",
       "   category_western  skin_tone_black  skin_tone_brown  skin_tone_dusky  \\\n",
       "0             False            False            False             True   \n",
       "1             False            False             True            False   \n",
       "2              True            False            False            False   \n",
       "3              True             True            False            False   \n",
       "4             False            False             True            False   \n",
       "\n",
       "   skin_tone_white  body_shape_hourglass  body_shape_inverted triangle  \\\n",
       "0            False                  True                         False   \n",
       "1            False                 False                         False   \n",
       "2             True                 False                         False   \n",
       "3            False                 False                          True   \n",
       "4            False                 False                         False   \n",
       "\n",
       "   body_shape_rectangle  body_shape_square  body_shape_triangle  \n",
       "0                 False              False                False  \n",
       "1                  True              False                False  \n",
       "2                 False              False                 True  \n",
       "3                 False              False                False  \n",
       "4                 False               True                False  "
      ]
     },
     "execution_count": 47,
     "metadata": {},
     "output_type": "execute_result"
    }
   ],
   "source": [
    "X_encoded.head()"
   ]
  },
  {
   "cell_type": "code",
   "execution_count": 48,
   "id": "99118003-33f4-420c-8a4a-aaab2feb9db9",
   "metadata": {},
   "outputs": [
    {
     "data": {
      "text/plain": [
       "Index(['height_cm', 'weight_kg', 'gender_female', 'gender_male',\n",
       "       'category_traditional', 'category_western', 'skin_tone_black',\n",
       "       'skin_tone_brown', 'skin_tone_dusky', 'skin_tone_white',\n",
       "       'body_shape_hourglass', 'body_shape_inverted triangle',\n",
       "       'body_shape_rectangle', 'body_shape_square', 'body_shape_triangle'],\n",
       "      dtype='object')"
      ]
     },
     "execution_count": 48,
     "metadata": {},
     "output_type": "execute_result"
    }
   ],
   "source": [
    "X_encoded.columns"
   ]
  },
  {
   "cell_type": "code",
   "execution_count": 49,
   "id": "74dad69b-66ed-480a-b159-85b75aea4f7d",
   "metadata": {},
   "outputs": [],
   "source": [
    "Y= df[\"sub_category\"]"
   ]
  },
  {
   "cell_type": "code",
   "execution_count": 50,
   "id": "2a18428b-408d-457a-a4c4-c73772d9675a",
   "metadata": {},
   "outputs": [],
   "source": [
    "from sklearn.preprocessing import LabelEncoder, StandardScaler\n",
    "label_encoder = LabelEncoder()\n",
    "Y_encoded = label_encoder.fit_transform(Y)"
   ]
  },
  {
   "cell_type": "code",
   "execution_count": 51,
   "id": "edeb2fa0-ff2c-4481-8b07-6602e3f6bdc8",
   "metadata": {},
   "outputs": [
    {
     "name": "stdout",
     "output_type": "stream",
     "text": [
      "[ 8  4  3  9  5  0  1 10  2  7  9  6  4 11  9  8  0  3 10  1  4  8  1  5\n",
      " 11 11  2]\n"
     ]
    }
   ],
   "source": [
    "print(Y_encoded)"
   ]
  },
  {
   "cell_type": "code",
   "execution_count": 52,
   "id": "027804f3-78ba-4b58-a40d-19ce76ff2df0",
   "metadata": {},
   "outputs": [
    {
     "data": {
      "text/plain": [
       "1"
      ]
     },
     "execution_count": 52,
     "metadata": {},
     "output_type": "execute_result"
    }
   ],
   "source": [
    "Y_encoded.ndim"
   ]
  },
  {
   "cell_type": "code",
   "execution_count": 53,
   "id": "eea916d1-e398-41d5-bda3-fc34cee11ade",
   "metadata": {},
   "outputs": [
    {
     "data": {
      "text/plain": [
       "(27, 15)"
      ]
     },
     "execution_count": 53,
     "metadata": {},
     "output_type": "execute_result"
    }
   ],
   "source": [
    "X_encoded.shape"
   ]
  },
  {
   "cell_type": "code",
   "execution_count": 54,
   "id": "466c8f93-086e-4bbc-8046-386db3df2caf",
   "metadata": {},
   "outputs": [
    {
     "data": {
      "text/plain": [
       "array([[ 8],\n",
       "       [ 4],\n",
       "       [ 3],\n",
       "       [ 9],\n",
       "       [ 5],\n",
       "       [ 0],\n",
       "       [ 1],\n",
       "       [10],\n",
       "       [ 2],\n",
       "       [ 7],\n",
       "       [ 9],\n",
       "       [ 6],\n",
       "       [ 4],\n",
       "       [11],\n",
       "       [ 9],\n",
       "       [ 8],\n",
       "       [ 0],\n",
       "       [ 3],\n",
       "       [10],\n",
       "       [ 1],\n",
       "       [ 4],\n",
       "       [ 8],\n",
       "       [ 1],\n",
       "       [ 5],\n",
       "       [11],\n",
       "       [11],\n",
       "       [ 2]])"
      ]
     },
     "execution_count": 54,
     "metadata": {},
     "output_type": "execute_result"
    }
   ],
   "source": [
    "Y_encoded.reshape(27,1)"
   ]
  },
  {
   "cell_type": "markdown",
   "id": "0129a829-b6fc-4eab-ac0a-fe86aebb4d25",
   "metadata": {},
   "source": [
    "VISUALIZE THE DATA BY USING MATPLOTLIB"
   ]
  },
  {
   "cell_type": "code",
   "execution_count": 79,
   "id": "1cae9d49-4224-4d3a-8f39-c40b13ce630b",
   "metadata": {},
   "outputs": [
    {
     "name": "stderr",
     "output_type": "stream",
     "text": [
      "C:\\Users\\Nitika\\AppData\\Local\\Temp\\ipykernel_22452\\812105778.py:5: UserWarning: No data for colormapping provided via 'c'. Parameters 'cmap' will be ignored\n",
      "  plot = plt.scatter(X_data, Y_data, cmap='viridis', s=100, alpha=0.7,edgecolors='w')\n"
     ]
    },
    {
     "data": {
      "image/png": "[encoded data removed]",
      "text/plain": [
       "<Figure size 640x480 with 1 Axes>"
      ]
     },
     "metadata": {},
     "output_type": "display_data"
    },
    {
     "data": {
      "image/png": "[encoded data removed]",
      "text/plain": [
       "<Figure size 640x480 with 1 Axes>"
      ]
     },
     "metadata": {},
     "output_type": "display_data"
    }
   ],
   "source": [
    "X_data = df['body_shape']\n",
    "x=df['skin_tone']\n",
    "Y_data = df['sub_category']\n",
    "\n",
    "plot = plt.scatter(X_data, Y_data, cmap='viridis', s=100, alpha=0.7,edgecolors='w')\n",
    "plt.title(\"BODY_SHAPE VS OUTFIT \")\n",
    "plt.xlabel(\"BODY_SHAPE\")\n",
    "plt.ylabel(\"OUTFITS\")\n",
    "plt.grid(True, linestyle='--', alpha=0.5)\n",
    "plt.show()\n",
    "\n",
    "plt.bar(x, Y_data, color='yellow', edgecolor='darkblue',linewidth=1.2)\n",
    "\n",
    "# --- 3. Styling and Output ---\n",
    "plt.title(\"SKIN_TONE VS OUTFIT\", fontsize=14)\n",
    "plt.xlabel(\"SKIN_TONE\", fontsize=10)\n",
    "plt.ylabel(\"OUTFIT\", fontsize=10)\n",
    "\n",
    "#  Add grid lines for comparison\n",
    "#plt.grid(axis='y', linestyle='--', alpha=0.6)\n",
    "\n",
    "plt.tight_layout()\n",
    "plt.show()\n",
    "\n"
   ]
  },
  {
   "cell_type": "markdown",
   "id": "a2775557-7d7a-4e1b-9c0e-7fcc6999af55",
   "metadata": {},
   "source": [
    "TRAINING AND SPLITTING DATA X AND Y "
   ]
  },
  {
   "cell_type": "code",
   "execution_count": 56,
   "id": "ddd1fd55-e959-4f21-800d-47ba2fc604f7",
   "metadata": {},
   "outputs": [],
   "source": [
    "from sklearn.model_selection import train_test_split"
   ]
  },
  {
   "cell_type": "code",
   "execution_count": 57,
   "id": "a9e851ba-cf87-488a-98a1-9f7622fbb0d6",
   "metadata": {},
   "outputs": [],
   "source": [
    "train_x,test_x,train_y,test_y=train_test_split(X_encoded,Y_encoded,test_size=0.3,random_state=42)"
   ]
  },
  {
   "cell_type": "code",
   "execution_count": 58,
   "id": "0c808f4f-a8fe-4c17-92b0-a37ab96b63dd",
   "metadata": {},
   "outputs": [
    {
     "name": "stdout",
     "output_type": "stream",
     "text": [
      "    height_cm  weight_kg  gender_female  gender_male  category_traditional  \\\n",
      "8         0.5        0.7           True        False                 False   \n",
      "13        0.5        0.5           True        False                 False   \n",
      "9         0.5        0.5           True        False                 False   \n",
      "21        0.4        0.7           True        False                  True   \n",
      "0         0.5        0.6           True        False                  True   \n",
      "11        0.5        0.6           True        False                  True   \n",
      "16        0.5        0.7          False         True                 False   \n",
      "17        0.5        0.5           True        False                 False   \n",
      "12        0.5        0.6          False         True                  True   \n",
      "\n",
      "    category_western  skin_tone_black  skin_tone_brown  skin_tone_dusky  \\\n",
      "8               True             True            False            False   \n",
      "13              True             True            False            False   \n",
      "9               True            False            False            False   \n",
      "21             False            False            False            False   \n",
      "0              False            False            False             True   \n",
      "11             False            False             True            False   \n",
      "16              True             True            False            False   \n",
      "17              True            False             True            False   \n",
      "12             False            False            False            False   \n",
      "\n",
      "    skin_tone_white  body_shape_hourglass  body_shape_inverted triangle  \\\n",
      "8             False                 False                          True   \n",
      "13            False                  True                         False   \n",
      "9              True                 False                         False   \n",
      "21             True                  True                         False   \n",
      "0             False                  True                         False   \n",
      "11            False                 False                         False   \n",
      "16            False                 False                         False   \n",
      "17            False                 False                          True   \n",
      "12             True                 False                         False   \n",
      "\n",
      "    body_shape_rectangle  body_shape_square  body_shape_triangle  \n",
      "8                  False              False                False  \n",
      "13                 False              False                False  \n",
      "9                  False               True                False  \n",
      "21                 False              False                False  \n",
      "0                  False              False                False  \n",
      "11                 False              False                 True  \n",
      "16                 False               True                False  \n",
      "17                 False              False                False  \n",
      "12                 False               True                False   [ 2 11  7  8  8  6  0  3  4]\n"
     ]
    }
   ],
   "source": [
    "print( test_x,test_y)"
   ]
  },
  {
   "cell_type": "markdown",
   "id": "d3fde247-b02d-4a2b-b5f9-e39a61f0e5e9",
   "metadata": {},
   "source": [
    "Scaling of numerical columns"
   ]
  },
  {
   "cell_type": "code",
   "execution_count": 59,
   "id": "db18c042-9d11-4058-8d27-6ad573945952",
   "metadata": {},
   "outputs": [],
   "source": [
    "\n",
    "scaler = StandardScaler()\n",
    "numerical_cols = ['height_cm', 'weight_kg']\n",
    "train_x[numerical_cols] = scaler.fit_transform(train_x[numerical_cols])\n",
    "test_x[numerical_cols] = scaler.transform(test_x[numerical_cols])"
   ]
  },
  {
   "cell_type": "markdown",
   "id": "de15ecef-1694-4278-aca7-9b6e557df929",
   "metadata": {},
   "source": [
    "MODEL TRAINING"
   ]
  },
  {
   "cell_type": "code",
   "execution_count": 60,
   "id": "8436f876-17bc-416f-b036-7a9cb94ed995",
   "metadata": {},
   "outputs": [],
   "source": [
    "## CHOOSING LOGISTIC AS IT HAS 94% ACCURACY WHILE KNN IS 72% ACCURATE & SVM IS 60% ACCURATE "
   ]
  },
  {
   "cell_type": "code",
   "execution_count": 61,
   "id": "0cc07fc2-1cef-47fa-9816-f0d455e93da5",
   "metadata": {},
   "outputs": [],
   "source": [
    "from sklearn.linear_model import LogisticRegression "
   ]
  },
  {
   "cell_type": "code",
   "execution_count": 62,
   "id": "de733e7e-66a0-4017-9508-4df9cdff6fc1",
   "metadata": {},
   "outputs": [],
   "source": [
    "model = LogisticRegression(max_iter=1000, random_state=42)"
   ]
  },
  {
   "cell_type": "code",
   "execution_count": 63,
   "id": "ad484964-7829-4903-940d-491c8ff2f091",
   "metadata": {},
   "outputs": [
    {
     "data": {
      "text/html": [
       "<style>#sk-container-id-2 {\n",
       "  /* Definition of color scheme common for light and dark mode */\n",
       "  --sklearn-color-text: black;\n",
       "  --sklearn-color-line: gray;\n",
       "  /* Definition of color scheme for unfitted estimators */\n",
       "  --sklearn-color-unfitted-level-0: #fff5e6;\n",
       "  --sklearn-color-unfitted-level-1: #f6e4d2;\n",
       "  --sklearn-color-unfitted-level-2: #ffe0b3;\n",
       "  --sklearn-color-unfitted-level-3: chocolate;\n",
       "  /* Definition of color scheme for fitted estimators */\n",
       "  --sklearn-color-fitted-level-0: #f0f8ff;\n",
       "  --sklearn-color-fitted-level-1: #d4ebff;\n",
       "  --sklearn-color-fitted-level-2: #b3dbfd;\n",
       "  --sklearn-color-fitted-level-3: cornflowerblue;\n",
       "\n",
       "  /* Specific color for light theme */\n",
       "  --sklearn-color-text-on-default-background: var(--sg-text-color, var(--theme-code-foreground, var(--jp-content-font-color1, black)));\n",
       "  --sklearn-color-background: var(--sg-background-color, var(--theme-background, var(--jp-layout-color0, white)));\n",
       "  --sklearn-color-border-box: var(--sg-text-color, var(--theme-code-foreground, var(--jp-content-font-color1, black)));\n",
       "  --sklearn-color-icon: #696969;\n",
       "\n",
       "  @media (prefers-color-scheme: dark) {\n",
       "    /* Redefinition of color scheme for dark theme */\n",
       "    --sklearn-color-text-on-default-background: var(--sg-text-color, var(--theme-code-foreground, var(--jp-content-font-color1, white)));\n",
       "    --sklearn-color-background: var(--sg-background-color, var(--theme-background, var(--jp-layout-color0, #111)));\n",
       "    --sklearn-color-border-box: var(--sg-text-color, var(--theme-code-foreground, var(--jp-content-font-color1, white)));\n",
       "    --sklearn-color-icon: #878787;\n",
       "  }\n",
       "}\n",
       "\n",
       "#sk-container-id-2 {\n",
       "  color: var(--sklearn-color-text);\n",
       "}\n",
       "\n",
       "#sk-container-id-2 pre {\n",
       "  padding: 0;\n",
       "}\n",
       "\n",
       "#sk-container-id-2 input.sk-hidden--visually {\n",
       "  border: 0;\n",
       "  clip: rect(1px 1px 1px 1px);\n",
       "  clip: rect(1px, 1px, 1px, 1px);\n",
       "  height: 1px;\n",
       "  margin: -1px;\n",
       "  overflow: hidden;\n",
       "  padding: 0;\n",
       "  position: absolute;\n",
       "  width: 1px;\n",
       "}\n",
       "\n",
       "#sk-container-id-2 div.sk-dashed-wrapped {\n",
       "  border: 1px dashed var(--sklearn-color-line);\n",
       "  margin: 0 0.4em 0.5em 0.4em;\n",
       "  box-sizing: border-box;\n",
       "  padding-bottom: 0.4em;\n",
       "  background-color: var(--sklearn-color-background);\n",
       "}\n",
       "\n",
       "#sk-container-id-2 div.sk-container {\n",
       "  /* jupyter's `normalize.less` sets `[hidden] { display: none; }`\n",
       "     but bootstrap.min.css set `[hidden] { display: none !important; }`\n",
       "     so we also need the `!important` here to be able to override the\n",
       "     default hidden behavior on the sphinx rendered scikit-learn.org.\n",
       "     See: https://github.com/scikit-learn/scikit-learn/issues/21755 */\n",
       "  display: inline-block !important;\n",
       "  position: relative;\n",
       "}\n",
       "\n",
       "#sk-container-id-2 div.sk-text-repr-fallback {\n",
       "  display: none;\n",
       "}\n",
       "\n",
       "div.sk-parallel-item,\n",
       "div.sk-serial,\n",
       "div.sk-item {\n",
       "  /* draw centered vertical line to link estimators */\n",
       "  background-image: linear-gradient(var(--sklearn-color-text-on-default-background), var(--sklearn-color-text-on-default-background));\n",
       "  background-size: 2px 100%;\n",
       "  background-repeat: no-repeat;\n",
       "  background-position: center center;\n",
       "}\n",
       "\n",
       "/* Parallel-specific style estimator block */\n",
       "\n",
       "#sk-container-id-2 div.sk-parallel-item::after {\n",
       "  content: \"\";\n",
       "  width: 100%;\n",
       "  border-bottom: 2px solid var(--sklearn-color-text-on-default-background);\n",
       "  flex-grow: 1;\n",
       "}\n",
       "\n",
       "#sk-container-id-2 div.sk-parallel {\n",
       "  display: flex;\n",
       "  align-items: stretch;\n",
       "  justify-content: center;\n",
       "  background-color: var(--sklearn-color-background);\n",
       "  position: relative;\n",
       "}\n",
       "\n",
       "#sk-container-id-2 div.sk-parallel-item {\n",
       "  display: flex;\n",
       "  flex-direction: column;\n",
       "}\n",
       "\n",
       "#sk-container-id-2 div.sk-parallel-item:first-child::after {\n",
       "  align-self: flex-end;\n",
       "  width: 50%;\n",
       "}\n",
       "\n",
       "#sk-container-id-2 div.sk-parallel-item:last-child::after {\n",
       "  align-self: flex-start;\n",
       "  width: 50%;\n",
       "}\n",
       "\n",
       "#sk-container-id-2 div.sk-parallel-item:only-child::after {\n",
       "  width: 0;\n",
       "}\n",
       "\n",
       "/* Serial-specific style estimator block */\n",
       "\n",
       "#sk-container-id-2 div.sk-serial {\n",
       "  display: flex;\n",
       "  flex-direction: column;\n",
       "  align-items: center;\n",
       "  background-color: var(--sklearn-color-background);\n",
       "  padding-right: 1em;\n",
       "  padding-left: 1em;\n",
       "}\n",
       "\n",
       "\n",
       "/* Toggleable style: style used for estimator/Pipeline/ColumnTransformer box that is\n",
       "clickable and can be expanded/collapsed.\n",
       "- Pipeline and ColumnTransformer use this feature and define the default style\n",
       "- Estimators will overwrite some part of the style using the `sk-estimator` class\n",
       "*/\n",
       "\n",
       "/* Pipeline and ColumnTransformer style (default) */\n",
       "\n",
       "#sk-container-id-2 div.sk-toggleable {\n",
       "  /* Default theme specific background. It is overwritten whether we have a\n",
       "  specific estimator or a Pipeline/ColumnTransformer */\n",
       "  background-color: var(--sklearn-color-background);\n",
       "}\n",
       "\n",
       "/* Toggleable label */\n",
       "#sk-container-id-2 label.sk-toggleable__label {\n",
       "  cursor: pointer;\n",
       "  display: block;\n",
       "  width: 100%;\n",
       "  margin-bottom: 0;\n",
       "  padding: 0.5em;\n",
       "  box-sizing: border-box;\n",
       "  text-align: center;\n",
       "}\n",
       "\n",
       "#sk-container-id-2 label.sk-toggleable__label-arrow:before {\n",
       "  /* Arrow on the left of the label */\n",
       "  content: \"▸\";\n",
       "  float: left;\n",
       "  margin-right: 0.25em;\n",
       "  color: var(--sklearn-color-icon);\n",
       "}\n",
       "\n",
       "#sk-container-id-2 label.sk-toggleable__label-arrow:hover:before {\n",
       "  color: var(--sklearn-color-text);\n",
       "}\n",
       "\n",
       "/* Toggleable content - dropdown */\n",
       "\n",
       "#sk-container-id-2 div.sk-toggleable__content {\n",
       "  max-height: 0;\n",
       "  max-width: 0;\n",
       "  overflow: hidden;\n",
       "  text-align: left;\n",
       "  /* unfitted */\n",
       "  background-color: var(--sklearn-color-unfitted-level-0);\n",
       "}\n",
       "\n",
       "#sk-container-id-2 div.sk-toggleable__content.fitted {\n",
       "  /* fitted */\n",
       "  background-color: var(--sklearn-color-fitted-level-0);\n",
       "}\n",
       "\n",
       "#sk-container-id-2 div.sk-toggleable__content pre {\n",
       "  margin: 0.2em;\n",
       "  border-radius: 0.25em;\n",
       "  color: var(--sklearn-color-text);\n",
       "  /* unfitted */\n",
       "  background-color: var(--sklearn-color-unfitted-level-0);\n",
       "}\n",
       "\n",
       "#sk-container-id-2 div.sk-toggleable__content.fitted pre {\n",
       "  /* unfitted */\n",
       "  background-color: var(--sklearn-color-fitted-level-0);\n",
       "}\n",
       "\n",
       "#sk-container-id-2 input.sk-toggleable__control:checked~div.sk-toggleable__content {\n",
       "  /* Expand drop-down */\n",
       "  max-height: 200px;\n",
       "  max-width: 100%;\n",
       "  overflow: auto;\n",
       "}\n",
       "\n",
       "#sk-container-id-2 input.sk-toggleable__control:checked~label.sk-toggleable__label-arrow:before {\n",
       "  content: \"▾\";\n",
       "}\n",
       "\n",
       "/* Pipeline/ColumnTransformer-specific style */\n",
       "\n",
       "#sk-container-id-2 div.sk-label input.sk-toggleable__control:checked~label.sk-toggleable__label {\n",
       "  color: var(--sklearn-color-text);\n",
       "  background-color: var(--sklearn-color-unfitted-level-2);\n",
       "}\n",
       "\n",
       "#sk-container-id-2 div.sk-label.fitted input.sk-toggleable__control:checked~label.sk-toggleable__label {\n",
       "  background-color: var(--sklearn-color-fitted-level-2);\n",
       "}\n",
       "\n",
       "/* Estimator-specific style */\n",
       "\n",
       "/* Colorize estimator box */\n",
       "#sk-container-id-2 div.sk-estimator input.sk-toggleable__control:checked~label.sk-toggleable__label {\n",
       "  /* unfitted */\n",
       "  background-color: var(--sklearn-color-unfitted-level-2);\n",
       "}\n",
       "\n",
       "#sk-container-id-2 div.sk-estimator.fitted input.sk-toggleable__control:checked~label.sk-toggleable__label {\n",
       "  /* fitted */\n",
       "  background-color: var(--sklearn-color-fitted-level-2);\n",
       "}\n",
       "\n",
       "#sk-container-id-2 div.sk-label label.sk-toggleable__label,\n",
       "#sk-container-id-2 div.sk-label label {\n",
       "  /* The background is the default theme color */\n",
       "  color: var(--sklearn-color-text-on-default-background);\n",
       "}\n",
       "\n",
       "/* On hover, darken the color of the background */\n",
       "#sk-container-id-2 div.sk-label:hover label.sk-toggleable__label {\n",
       "  color: var(--sklearn-color-text);\n",
       "  background-color: var(--sklearn-color-unfitted-level-2);\n",
       "}\n",
       "\n",
       "/* Label box, darken color on hover, fitted */\n",
       "#sk-container-id-2 div.sk-label.fitted:hover label.sk-toggleable__label.fitted {\n",
       "  color: var(--sklearn-color-text);\n",
       "  background-color: var(--sklearn-color-fitted-level-2);\n",
       "}\n",
       "\n",
       "/* Estimator label */\n",
       "\n",
       "#sk-container-id-2 div.sk-label label {\n",
       "  font-family: monospace;\n",
       "  font-weight: bold;\n",
       "  display: inline-block;\n",
       "  line-height: 1.2em;\n",
       "}\n",
       "\n",
       "#sk-container-id-2 div.sk-label-container {\n",
       "  text-align: center;\n",
       "}\n",
       "\n",
       "/* Estimator-specific */\n",
       "#sk-container-id-2 div.sk-estimator {\n",
       "  font-family: monospace;\n",
       "  border: 1px dotted var(--sklearn-color-border-box);\n",
       "  border-radius: 0.25em;\n",
       "  box-sizing: border-box;\n",
       "  margin-bottom: 0.5em;\n",
       "  /* unfitted */\n",
       "  background-color: var(--sklearn-color-unfitted-level-0);\n",
       "}\n",
       "\n",
       "#sk-container-id-2 div.sk-estimator.fitted {\n",
       "  /* fitted */\n",
       "  background-color: var(--sklearn-color-fitted-level-0);\n",
       "}\n",
       "\n",
       "/* on hover */\n",
       "#sk-container-id-2 div.sk-estimator:hover {\n",
       "  /* unfitted */\n",
       "  background-color: var(--sklearn-color-unfitted-level-2);\n",
       "}\n",
       "\n",
       "#sk-container-id-2 div.sk-estimator.fitted:hover {\n",
       "  /* fitted */\n",
       "  background-color: var(--sklearn-color-fitted-level-2);\n",
       "}\n",
       "\n",
       "/* Specification for estimator info (e.g. \"i\" and \"?\") */\n",
       "\n",
       "/* Common style for \"i\" and \"?\" */\n",
       "\n",
       ".sk-estimator-doc-link,\n",
       "a:link.sk-estimator-doc-link,\n",
       "a:visited.sk-estimator-doc-link {\n",
       "  float: right;\n",
       "  font-size: smaller;\n",
       "  line-height: 1em;\n",
       "  font-family: monospace;\n",
       "  background-color: var(--sklearn-color-background);\n",
       "  border-radius: 1em;\n",
       "  height: 1em;\n",
       "  width: 1em;\n",
       "  text-decoration: none !important;\n",
       "  margin-left: 1ex;\n",
       "  /* unfitted */\n",
       "  border: var(--sklearn-color-unfitted-level-1) 1pt solid;\n",
       "  color: var(--sklearn-color-unfitted-level-1);\n",
       "}\n",
       "\n",
       ".sk-estimator-doc-link.fitted,\n",
       "a:link.sk-estimator-doc-link.fitted,\n",
       "a:visited.sk-estimator-doc-link.fitted {\n",
       "  /* fitted */\n",
       "  border: var(--sklearn-color-fitted-level-1) 1pt solid;\n",
       "  color: var(--sklearn-color-fitted-level-1);\n",
       "}\n",
       "\n",
       "/* On hover */\n",
       "div.sk-estimator:hover .sk-estimator-doc-link:hover,\n",
       ".sk-estimator-doc-link:hover,\n",
       "div.sk-label-container:hover .sk-estimator-doc-link:hover,\n",
       ".sk-estimator-doc-link:hover {\n",
       "  /* unfitted */\n",
       "  background-color: var(--sklearn-color-unfitted-level-3);\n",
       "  color: var(--sklearn-color-background);\n",
       "  text-decoration: none;\n",
       "}\n",
       "\n",
       "div.sk-estimator.fitted:hover .sk-estimator-doc-link.fitted:hover,\n",
       ".sk-estimator-doc-link.fitted:hover,\n",
       "div.sk-label-container:hover .sk-estimator-doc-link.fitted:hover,\n",
       ".sk-estimator-doc-link.fitted:hover {\n",
       "  /* fitted */\n",
       "  background-color: var(--sklearn-color-fitted-level-3);\n",
       "  color: var(--sklearn-color-background);\n",
       "  text-decoration: none;\n",
       "}\n",
       "\n",
       "/* Span, style for the box shown on hovering the info icon */\n",
       ".sk-estimator-doc-link span {\n",
       "  display: none;\n",
       "  z-index: 9999;\n",
       "  position: relative;\n",
       "  font-weight: normal;\n",
       "  right: .2ex;\n",
       "  padding: .5ex;\n",
       "  margin: .5ex;\n",
       "  width: min-content;\n",
       "  min-width: 20ex;\n",
       "  max-width: 50ex;\n",
       "  color: var(--sklearn-color-text);\n",
       "  box-shadow: 2pt 2pt 4pt #999;\n",
       "  /* unfitted */\n",
       "  background: var(--sklearn-color-unfitted-level-0);\n",
       "  border: .5pt solid var(--sklearn-color-unfitted-level-3);\n",
       "}\n",
       "\n",
       ".sk-estimator-doc-link.fitted span {\n",
       "  /* fitted */\n",
       "  background: var(--sklearn-color-fitted-level-0);\n",
       "  border: var(--sklearn-color-fitted-level-3);\n",
       "}\n",
       "\n",
       ".sk-estimator-doc-link:hover span {\n",
       "  display: block;\n",
       "}\n",
       "\n",
       "/* \"?\"-specific style due to the `<a>` HTML tag */\n",
       "\n",
       "#sk-container-id-2 a.estimator_doc_link {\n",
       "  float: right;\n",
       "  font-size: 1rem;\n",
       "  line-height: 1em;\n",
       "  font-family: monospace;\n",
       "  background-color: var(--sklearn-color-background);\n",
       "  border-radius: 1rem;\n",
       "  height: 1rem;\n",
       "  width: 1rem;\n",
       "  text-decoration: none;\n",
       "  /* unfitted */\n",
       "  color: var(--sklearn-color-unfitted-level-1);\n",
       "  border: var(--sklearn-color-unfitted-level-1) 1pt solid;\n",
       "}\n",
       "\n",
       "#sk-container-id-2 a.estimator_doc_link.fitted {\n",
       "  /* fitted */\n",
       "  border: var(--sklearn-color-fitted-level-1) 1pt solid;\n",
       "  color: var(--sklearn-color-fitted-level-1);\n",
       "}\n",
       "\n",
       "/* On hover */\n",
       "#sk-container-id-2 a.estimator_doc_link:hover {\n",
       "  /* unfitted */\n",
       "  background-color: var(--sklearn-color-unfitted-level-3);\n",
       "  color: var(--sklearn-color-background);\n",
       "  text-decoration: none;\n",
       "}\n",
       "\n",
       "#sk-container-id-2 a.estimator_doc_link.fitted:hover {\n",
       "  /* fitted */\n",
       "  background-color: var(--sklearn-color-fitted-level-3);\n",
       "}\n",
       "</style><div id=\"sk-container-id-2\" class=\"sk-top-container\"><div class=\"sk-text-repr-fallback\"><pre>LogisticRegression(max_iter=1000, random_state=42)</pre><b>In a Jupyter environment, please rerun this cell to show the HTML representation or trust the notebook. <br />On GitHub, the HTML representation is unable to render, please try loading this page with nbviewer.org.</b></div><div class=\"sk-container\" hidden><div class=\"sk-item\"><div class=\"sk-estimator fitted sk-toggleable\"><input class=\"sk-toggleable__control sk-hidden--visually\" id=\"sk-estimator-id-2\" type=\"checkbox\" checked><label for=\"sk-estimator-id-2\" class=\"sk-toggleable__label fitted sk-toggleable__label-arrow fitted\">&nbsp;&nbsp;LogisticRegression<a class=\"sk-estimator-doc-link fitted\" rel=\"noreferrer\" target=\"_blank\" href=\"https://scikit-learn.org/1.5/modules/generated/sklearn.linear_model.LogisticRegression.html\">?<span>Documentation for LogisticRegression</span></a><span class=\"sk-estimator-doc-link fitted\">i<span>Fitted</span></span></label><div class=\"sk-toggleable__content fitted\"><pre>LogisticRegression(max_iter=1000, random_state=42)</pre></div> </div></div></div></div>"
      ],
      "text/plain": [
       "LogisticRegression(max_iter=1000, random_state=42)"
      ]
     },
     "execution_count": 63,
     "metadata": {},
     "output_type": "execute_result"
    }
   ],
   "source": [
    "model.fit(train_x,train_y)"
   ]
  },
  {
   "cell_type": "code",
   "execution_count": 64,
   "id": "0fd13e2f-1222-4946-b9d6-f3fff02ff50a",
   "metadata": {},
   "outputs": [
    {
     "data": {
      "text/plain": [
       "array([ 1, 11, 11,  5, 11, 10,  9, 11, 10])"
      ]
     },
     "execution_count": 64,
     "metadata": {},
     "output_type": "execute_result"
    }
   ],
   "source": [
    "model.predict(test_x)"
   ]
  },
  {
   "cell_type": "code",
   "execution_count": 65,
   "id": "85546f82-6952-4cb6-ba68-a1b95df880a0",
   "metadata": {},
   "outputs": [
    {
     "data": {
      "text/plain": [
       "0.9444444444444444"
      ]
     },
     "execution_count": 65,
     "metadata": {},
     "output_type": "execute_result"
    }
   ],
   "source": [
    "model.score(train_x,train_y) # MODEL ACCURACY "
   ]
  },
  {
   "cell_type": "markdown",
   "id": "81f20492-bd97-4f3f-9034-bd13955345bd",
   "metadata": {},
   "source": [
    "NOW TESTING OUR MODEL BY TAKING INPUT FROM USER"
   ]
  },
  {
   "cell_type": "code",
   "execution_count": 66,
   "id": "e6c3835a-f989-43d0-a6ff-03e8f569f989",
   "metadata": {},
   "outputs": [],
   "source": [
    "MOCK_TRAIN_COLUMNS = ['height_cm', 'weight_kg', 'gender_female', 'gender_male',\n",
    "       'category_traditional', 'category_western', \n",
    "       'skin_tone_black', 'skin_tone_brown', 'skin_tone_dusky',\n",
    "       'skin_tone_white', 'body_shape_hourglass',\n",
    "       'body_shape_inverted triangle', 'body_shape_rectangle',\n",
    "       'body_shape_square', 'body_shape_triangle']\n",
    "\n",
    "def user_input(gender, height_cm, weight_kg, skin_tone, body_shape, category):\n",
    "    \n",
    "    # 1. Create a temporary DataFrame from the simple user inputs\n",
    "    new_user_data = pd.DataFrame({\n",
    "        'gender': [gender], \n",
    "        'height_cm': [height_cm], \n",
    "        'weight_kg': [weight_kg], \n",
    "        'skin_tone': [skin_tone], \n",
    "        'body_shape': [body_shape],\n",
    "        'category': [category]  \n",
    "    })\n",
    "    \n",
    "    # 2. Apply One-Hot Encoding to the categorical features\n",
    "    new_user_encoded = pd.get_dummies(new_user_data, drop_first=True)\n",
    "    \n",
    "    # 3. CRUCIAL STEP: Align columns with the full set of training features\n",
    "    # This ensures the new input has all 27 columns in the correct order, \n",
    "    aligned_input = new_user_encoded.reindex(columns=MOCK_TRAIN_COLUMNS, fill_value=0)\n",
    "    aligned_input[numerical_cols] = scaler.transform(aligned_input[numerical_cols])\n",
    "    \n",
    "    return aligned_input\n",
    "    \n",
    "\n",
    "user_input_df = user_input(\n",
    "    gender='female', height_cm=0.5, weight_kg=0.6, skin_tone='brown', \n",
    "    body_shape='hourglass', category='western'\n",
    ")\n",
    "\n"
   ]
  },
  {
   "cell_type": "code",
   "execution_count": 67,
   "id": "5fc1c221-0ae7-4141-a4ae-04d51c81d797",
   "metadata": {},
   "outputs": [
    {
     "name": "stderr",
     "output_type": "stream",
     "text": [
      "C:\\Users\\Nitika\\AppData\\Local\\Programs\\Python\\Python312\\Lib\\site-packages\\sklearn\\preprocessing\\_label.py:153: DataConversionWarning: A column-vector y was passed when a 1d array was expected. Please change the shape of y to (n_samples, ), for example using ravel().\n",
      "  y = column_or_1d(y, warn=True)\n"
     ]
    }
   ],
   "source": [
    "prediction = model.predict(user_input_df)\n",
    "predicted_outfit = label_encoder.inverse_transform([prediction])"
   ]
  },
  {
   "cell_type": "code",
   "execution_count": 68,
   "id": "8e25b4a4-456e-49d3-bf3d-2b39685cab38",
   "metadata": {},
   "outputs": [
    {
     "name": "stdout",
     "output_type": "stream",
     "text": [
      "['frocks']\n"
     ]
    }
   ],
   "source": [
    "print(predicted_outfit)"
   ]
  },
  {
   "cell_type": "markdown",
   "id": "7bbc92bb-8937-4dcb-a4ed-8215217d6f86",
   "metadata": {},
   "source": [
    "MAKING PICKLE FILE "
   ]
  },
  {
   "cell_type": "code",
   "execution_count": 69,
   "id": "8db9d96f-e56b-4d66-b292-8f957e5a6e1c",
   "metadata": {},
   "outputs": [],
   "source": [
    "f=open(\"xyz.pkl\",\"wb\")"
   ]
  },
  {
   "cell_type": "code",
   "execution_count": 70,
   "id": "6cb930a5-31f9-4476-9d35-3aaf88301128",
   "metadata": {},
   "outputs": [],
   "source": [
    "f.close()"
   ]
  },
  {
   "cell_type": "code",
   "execution_count": 71,
   "id": "1b65919c-764d-409e-af51-aefb53697711",
   "metadata": {},
   "outputs": [],
   "source": [
    "import pickle"
   ]
  },
  {
   "cell_type": "code",
   "execution_count": 72,
   "id": "e5bccb02-fefb-40d8-a76f-02ed3be82fb2",
   "metadata": {},
   "outputs": [],
   "source": [
    "pickle.dump(model,open(\"xyz.pkl\",\"wb\"))"
   ]
  },
  {
   "cell_type": "code",
   "execution_count": null,
   "id": "544c292a-01e9-4389-abfc-44c32d3d4f6c",
   "metadata": {},
   "outputs": [],
   "source": []
  }
 ],
 "metadata": {
  "kernelspec": {
   "display_name": "Python 3 (ipykernel)",
   "language": "python",
   "name": "python3"
  },
  "language_info": {
   "codemirror_mode": {
    "name": "ipython",
    "version": 3
   },
   "file_extension": ".py",
   "mimetype": "text/x-python",
   "name": "python",
   "nbconvert_exporter": "python",
   "pygments_lexer": "ipython3",
   "version": "3.12.4"
  },
  "widgets": {
   "application/vnd.jupyter.widget-state+json": {
    "state": {},
    "version_major": 2,
    "version_minor": 0
   }
  }
 },
 "nbformat": 4,
 "nbformat_minor": 5
}
