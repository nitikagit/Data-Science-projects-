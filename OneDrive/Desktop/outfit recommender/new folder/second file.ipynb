{
 "cells": [
  {
   "cell_type": "code",
   "execution_count": 1,
   "id": "2d535b9d-2c8c-4a4a-a410-07d91f22e61a",
   "metadata": {},
   "outputs": [],
   "source": [
    "import pandas as pd\n",
    "from sklearn.preprocessing import LabelEncoder\n",
    "import pickle\n",
    "import os"
   ]
  },
  {
   "cell_type": "code",
   "execution_count": 3,
   "id": "d303efc7-4ae3-4f1a-8663-b959885548b4",
   "metadata": {},
   "outputs": [],
   "source": [
    "df = pd.read_excel('outfit project 2.xlsx')"
   ]
  },
  {
   "cell_type": "code",
   "execution_count": 6,
   "id": "25a121d9-4a1c-4710-bf14-1aff335770f2",
   "metadata": {},
   "outputs": [],
   "source": [
    "y = df['sub_category']"
   ]
  },
  {
   "cell_type": "code",
   "execution_count": 7,
   "id": "856a78c9-0e22-4e86-9982-5aa7b5a1f960",
   "metadata": {},
   "outputs": [
    {
     "data": {
      "text/plain": [
       "0             saree\n",
       "1     kurta-pajamas\n",
       "2         jeans-top\n",
       "3      shirts-pants\n",
       "4            lehnga\n",
       "5        coat-pants\n",
       "6            frocks\n",
       "7     suits-pajamas\n",
       "8             gowns\n",
       "9        mini-skirt\n",
       "10     shirts-pants\n",
       "11       long_frock\n",
       "12    kurta-pajamas\n",
       "13       top-shorts\n",
       "14     shirts-pants\n",
       "15            saree\n",
       "16       coat-pants\n",
       "17        jeans-top\n",
       "18    suits-pajamas\n",
       "19           frocks\n",
       "20    kurta-pajamas\n",
       "21            saree\n",
       "22           frocks\n",
       "23           lehnga\n",
       "24       top-shorts\n",
       "25       top-shorts\n",
       "26            gowns\n",
       "Name: sub_category, dtype: object"
      ]
     },
     "execution_count": 7,
     "metadata": {},
     "output_type": "execute_result"
    }
   ],
   "source": [
    "y"
   ]
  },
  {
   "cell_type": "code",
   "execution_count": 8,
   "id": "58986a8a-a849-47e5-863a-4a4ecb4e4dbc",
   "metadata": {},
   "outputs": [],
   "source": [
    "label_encoder = LabelEncoder()\n",
    "label_encoder.fit(y)\n",
    "y_encoded = label_encoder.transform(y)"
   ]
  },
  {
   "cell_type": "code",
   "execution_count": 9,
   "id": "5eaec059-6eb3-492c-9729-3eaee79a54c1",
   "metadata": {},
   "outputs": [],
   "source": [
    "with open('fitted_label_encoder.pkl', 'wb') as file:\n",
    "    pickle.dump(label_encoder, file)"
   ]
  },
  {
   "cell_type": "code",
   "execution_count": null,
   "id": "c6f6b917-5b46-4e78-ab08-04dd161adad4",
   "metadata": {},
   "outputs": [],
   "source": []
  }
 ],
 "metadata": {
  "kernelspec": {
   "display_name": "Python 3 (ipykernel)",
   "language": "python",
   "name": "python3"
  },
  "language_info": {
   "codemirror_mode": {
    "name": "ipython",
    "version": 3
   },
   "file_extension": ".py",
   "mimetype": "text/x-python",
   "name": "python",
   "nbconvert_exporter": "python",
   "pygments_lexer": "ipython3",
   "version": "3.12.4"
  },
  "widgets": {
   "application/vnd.jupyter.widget-state+json": {
    "state": {},
    "version_major": 2,
    "version_minor": 0
   }
  }
 },
 "nbformat": 4,
 "nbformat_minor": 5
}
